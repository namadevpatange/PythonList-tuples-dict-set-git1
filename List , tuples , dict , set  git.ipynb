{
 "cells": [
  {
   "cell_type": "code",
   "execution_count": 1,
   "id": "6aa8fce0",
   "metadata": {},
   "outputs": [],
   "source": [
    "l = [1,2,3,4,5, \"namdev\" , 45.67, True]"
   ]
  },
  {
   "cell_type": "code",
   "execution_count": 3,
   "id": "88a616d3",
   "metadata": {},
   "outputs": [
    {
     "data": {
      "text/plain": [
       "1"
      ]
     },
     "execution_count": 3,
     "metadata": {},
     "output_type": "execute_result"
    }
   ],
   "source": [
    "l[0]"
   ]
  },
  {
   "cell_type": "code",
   "execution_count": 5,
   "id": "ba5eb6aa",
   "metadata": {},
   "outputs": [
    {
     "data": {
      "text/plain": [
       "True"
      ]
     },
     "execution_count": 5,
     "metadata": {},
     "output_type": "execute_result"
    }
   ],
   "source": [
    "l[-1]"
   ]
  },
  {
   "cell_type": "code",
   "execution_count": 7,
   "id": "fed3fabb",
   "metadata": {},
   "outputs": [
    {
     "data": {
      "text/plain": [
       "8"
      ]
     },
     "execution_count": 7,
     "metadata": {},
     "output_type": "execute_result"
    }
   ],
   "source": [
    "len(l)"
   ]
  },
  {
   "cell_type": "code",
   "execution_count": 9,
   "id": "a22593bb",
   "metadata": {},
   "outputs": [
    {
     "data": {
      "text/plain": [
       "[1, 2, 3, 4, 5]"
      ]
     },
     "execution_count": 9,
     "metadata": {},
     "output_type": "execute_result"
    }
   ],
   "source": [
    "l[0:5]"
   ]
  },
  {
   "cell_type": "code",
   "execution_count": 11,
   "id": "9ec8246d",
   "metadata": {},
   "outputs": [
    {
     "data": {
      "text/plain": [
       "[True, 45.67, 'namdev', 5, 4, 3, 2, 1]"
      ]
     },
     "execution_count": 11,
     "metadata": {},
     "output_type": "execute_result"
    }
   ],
   "source": [
    "l[::-1]"
   ]
  },
  {
   "cell_type": "code",
   "execution_count": 13,
   "id": "325e5983",
   "metadata": {},
   "outputs": [
    {
     "data": {
      "text/plain": [
       "[1, 2, 3, 4, 5, 'namdev', 45.67, True]"
      ]
     },
     "execution_count": 13,
     "metadata": {},
     "output_type": "execute_result"
    }
   ],
   "source": [
    "l"
   ]
  },
  {
   "cell_type": "code",
   "execution_count": 15,
   "id": "4a5c6b2d",
   "metadata": {},
   "outputs": [
    {
     "data": {
      "text/plain": [
       "[1, 3, 5, 45.67]"
      ]
     },
     "execution_count": 15,
     "metadata": {},
     "output_type": "execute_result"
    }
   ],
   "source": [
    "l[0:100:2]"
   ]
  },
  {
   "cell_type": "code",
   "execution_count": 17,
   "id": "7f8fa5d8",
   "metadata": {},
   "outputs": [
    {
     "data": {
      "text/plain": [
       "[1, 2, 3, 4, 5, 'namdev', 45.67, True]"
      ]
     },
     "execution_count": 17,
     "metadata": {},
     "output_type": "execute_result"
    }
   ],
   "source": [
    "l"
   ]
  },
  {
   "cell_type": "code",
   "execution_count": 19,
   "id": "31faac26",
   "metadata": {},
   "outputs": [
    {
     "data": {
      "text/plain": [
       "[]"
      ]
     },
     "execution_count": 19,
     "metadata": {},
     "output_type": "execute_result"
    }
   ],
   "source": [
    "l[0:8:-1]"
   ]
  },
  {
   "cell_type": "code",
   "execution_count": 21,
   "id": "d1ac7b2f",
   "metadata": {},
   "outputs": [
    {
     "data": {
      "text/plain": [
       "[1, 2, 3]"
      ]
     },
     "execution_count": 21,
     "metadata": {},
     "output_type": "execute_result"
    }
   ],
   "source": [
    "l[:3]"
   ]
  },
  {
   "cell_type": "code",
   "execution_count": 23,
   "id": "f3a88528",
   "metadata": {},
   "outputs": [
    {
     "data": {
      "text/plain": [
       "[1, 2, 3, 4, 5, 'namdev', 45.67, True, 'Patange']"
      ]
     },
     "execution_count": 23,
     "metadata": {},
     "output_type": "execute_result"
    }
   ],
   "source": [
    "l +[\"Patange\"]"
   ]
  },
  {
   "cell_type": "code",
   "execution_count": 25,
   "id": "9c50fc6c",
   "metadata": {},
   "outputs": [
    {
     "data": {
      "text/plain": [
       "[1, 2, 3, 4, 5, 'namdev', 45.67, True, 1, 2, 3, 4, 5, 'namdev', 45.67, True]"
      ]
     },
     "execution_count": 25,
     "metadata": {},
     "output_type": "execute_result"
    }
   ],
   "source": [
    "l * 2"
   ]
  },
  {
   "cell_type": "code",
   "execution_count": 27,
   "id": "a8835e53",
   "metadata": {},
   "outputs": [
    {
     "data": {
      "text/plain": [
       "[1, 2, 3, 4, 5, 'namdev', 45.67, True]"
      ]
     },
     "execution_count": 27,
     "metadata": {},
     "output_type": "execute_result"
    }
   ],
   "source": [
    "l"
   ]
  },
  {
   "cell_type": "code",
   "execution_count": 29,
   "id": "1b7cb7ee",
   "metadata": {},
   "outputs": [
    {
     "data": {
      "text/plain": [
       "False"
      ]
     },
     "execution_count": 29,
     "metadata": {},
     "output_type": "execute_result"
    }
   ],
   "source": [
    "60 in l"
   ]
  },
  {
   "cell_type": "code",
   "execution_count": 31,
   "id": "f72eae30",
   "metadata": {},
   "outputs": [
    {
     "data": {
      "text/plain": [
       "True"
      ]
     },
     "execution_count": 31,
     "metadata": {},
     "output_type": "execute_result"
    }
   ],
   "source": [
    "2 in l"
   ]
  },
  {
   "cell_type": "code",
   "execution_count": 33,
   "id": "5f9d1feb",
   "metadata": {},
   "outputs": [],
   "source": [
    "l1 = [3,4,5,6,6]"
   ]
  },
  {
   "cell_type": "code",
   "execution_count": 35,
   "id": "19744a16",
   "metadata": {},
   "outputs": [
    {
     "data": {
      "text/plain": [
       "6"
      ]
     },
     "execution_count": 35,
     "metadata": {},
     "output_type": "execute_result"
    }
   ],
   "source": [
    "max(l1)"
   ]
  },
  {
   "cell_type": "code",
   "execution_count": 37,
   "id": "36d91ce0",
   "metadata": {},
   "outputs": [
    {
     "data": {
      "text/plain": [
       "[1, 2, 3, 4, 5, 'namdev', 45.67, True]"
      ]
     },
     "execution_count": 37,
     "metadata": {},
     "output_type": "execute_result"
    }
   ],
   "source": [
    "l"
   ]
  },
  {
   "cell_type": "code",
   "execution_count": 39,
   "id": "cb8fbcc3",
   "metadata": {},
   "outputs": [],
   "source": [
    "l2 = [\"namdev\" , \"patange\" , \"deshmukh\"]"
   ]
  },
  {
   "cell_type": "code",
   "execution_count": 41,
   "id": "fcbb6f75",
   "metadata": {},
   "outputs": [
    {
     "data": {
      "text/plain": [
       "'patange'"
      ]
     },
     "execution_count": 41,
     "metadata": {},
     "output_type": "execute_result"
    }
   ],
   "source": [
    "max(l2)"
   ]
  },
  {
   "cell_type": "code",
   "execution_count": 43,
   "id": "f15ead27",
   "metadata": {},
   "outputs": [
    {
     "data": {
      "text/plain": [
       "3"
      ]
     },
     "execution_count": 43,
     "metadata": {},
     "output_type": "execute_result"
    }
   ],
   "source": [
    "min(l1)"
   ]
  },
  {
   "cell_type": "code",
   "execution_count": 45,
   "id": "2f860bd5",
   "metadata": {},
   "outputs": [
    {
     "data": {
      "text/plain": [
       "'deshmukh'"
      ]
     },
     "execution_count": 45,
     "metadata": {},
     "output_type": "execute_result"
    }
   ],
   "source": [
    "min(l2)"
   ]
  },
  {
   "cell_type": "code",
   "execution_count": 47,
   "id": "0302a260",
   "metadata": {},
   "outputs": [
    {
     "data": {
      "text/plain": [
       "[1, 2, 3, 4, 5, 'namdev', 45.67, True]"
      ]
     },
     "execution_count": 47,
     "metadata": {},
     "output_type": "execute_result"
    }
   ],
   "source": [
    "l"
   ]
  },
  {
   "cell_type": "code",
   "execution_count": 49,
   "id": "749e8146",
   "metadata": {},
   "outputs": [],
   "source": [
    "l.append(\"namdev\")"
   ]
  },
  {
   "cell_type": "code",
   "execution_count": 51,
   "id": "3c94f99a",
   "metadata": {},
   "outputs": [
    {
     "data": {
      "text/plain": [
       "[1, 2, 3, 4, 5, 'namdev', 45.67, True, 'namdev']"
      ]
     },
     "execution_count": 51,
     "metadata": {},
     "output_type": "execute_result"
    }
   ],
   "source": [
    "l"
   ]
  },
  {
   "cell_type": "code",
   "execution_count": 53,
   "id": "79a5c295",
   "metadata": {},
   "outputs": [],
   "source": [
    "l.append([1,2,3,4])"
   ]
  },
  {
   "cell_type": "code",
   "execution_count": 55,
   "id": "5e122777",
   "metadata": {},
   "outputs": [
    {
     "data": {
      "text/plain": [
       "[1, 2, 3, 4, 5, 'namdev', 45.67, True, 'namdev', [1, 2, 3, 4]]"
      ]
     },
     "execution_count": 55,
     "metadata": {},
     "output_type": "execute_result"
    }
   ],
   "source": [
    "l"
   ]
  },
  {
   "cell_type": "code",
   "execution_count": 57,
   "id": "03c9adf9",
   "metadata": {},
   "outputs": [
    {
     "data": {
      "text/plain": [
       "1"
      ]
     },
     "execution_count": 57,
     "metadata": {},
     "output_type": "execute_result"
    }
   ],
   "source": [
    "l.pop(0)"
   ]
  },
  {
   "cell_type": "code",
   "execution_count": 59,
   "id": "84200cd2",
   "metadata": {},
   "outputs": [
    {
     "data": {
      "text/plain": [
       "[2, 3, 4, 5, 'namdev', 45.67, True, 'namdev', [1, 2, 3, 4]]"
      ]
     },
     "execution_count": 59,
     "metadata": {},
     "output_type": "execute_result"
    }
   ],
   "source": [
    "l"
   ]
  },
  {
   "cell_type": "code",
   "execution_count": 61,
   "id": "6edaaa25",
   "metadata": {},
   "outputs": [
    {
     "data": {
      "text/plain": [
       "[1, 2, 3, 4]"
      ]
     },
     "execution_count": 61,
     "metadata": {},
     "output_type": "execute_result"
    }
   ],
   "source": [
    "l.pop()"
   ]
  },
  {
   "cell_type": "code",
   "execution_count": 63,
   "id": "e578afaf",
   "metadata": {},
   "outputs": [
    {
     "data": {
      "text/plain": [
       "[2, 3, 4, 5, 'namdev', 45.67, True, 'namdev']"
      ]
     },
     "execution_count": 63,
     "metadata": {},
     "output_type": "execute_result"
    }
   ],
   "source": [
    "l"
   ]
  },
  {
   "cell_type": "code",
   "execution_count": 65,
   "id": "77598818",
   "metadata": {},
   "outputs": [],
   "source": [
    "l.reverse()"
   ]
  },
  {
   "cell_type": "code",
   "execution_count": 67,
   "id": "c630beef",
   "metadata": {},
   "outputs": [
    {
     "data": {
      "text/plain": [
       "['namdev', True, 45.67, 'namdev', 5, 4, 3, 2]"
      ]
     },
     "execution_count": 67,
     "metadata": {},
     "output_type": "execute_result"
    }
   ],
   "source": [
    "l"
   ]
  },
  {
   "cell_type": "code",
   "execution_count": 69,
   "id": "52cfc604",
   "metadata": {},
   "outputs": [],
   "source": [
    "l = l[::-1]"
   ]
  },
  {
   "cell_type": "code",
   "execution_count": 70,
   "id": "f8d0ef51",
   "metadata": {},
   "outputs": [],
   "source": [
    "l.reverse()"
   ]
  },
  {
   "cell_type": "code",
   "execution_count": 72,
   "id": "04bdc84d",
   "metadata": {},
   "outputs": [
    {
     "data": {
      "text/plain": [
       "['namdev', True, 45.67, 'namdev', 5, 4, 3, 2]"
      ]
     },
     "execution_count": 72,
     "metadata": {},
     "output_type": "execute_result"
    }
   ],
   "source": [
    "l"
   ]
  },
  {
   "cell_type": "code",
   "execution_count": 74,
   "id": "546a2228",
   "metadata": {},
   "outputs": [],
   "source": [
    "l.append ([1,2,3,4])"
   ]
  },
  {
   "cell_type": "code",
   "execution_count": 75,
   "id": "03d13653",
   "metadata": {},
   "outputs": [
    {
     "data": {
      "text/plain": [
       "['namdev', True, 45.67, 'namdev', 5, 4, 3, 2, [1, 2, 3, 4]]"
      ]
     },
     "execution_count": 75,
     "metadata": {},
     "output_type": "execute_result"
    }
   ],
   "source": [
    "l"
   ]
  },
  {
   "cell_type": "code",
   "execution_count": null,
   "id": "9cd32227",
   "metadata": {},
   "outputs": [],
   "source": [
    "l"
   ]
  },
  {
   "cell_type": "code",
   "execution_count": null,
   "id": "1c2e3b21",
   "metadata": {},
   "outputs": [],
   "source": [
    "l1"
   ]
  },
  {
   "cell_type": "code",
   "execution_count": null,
   "id": "0fa37a2d",
   "metadata": {},
   "outputs": [],
   "source": [
    "l1.sort()"
   ]
  },
  {
   "cell_type": "code",
   "execution_count": null,
   "id": "f0eb8ce5",
   "metadata": {},
   "outputs": [],
   "source": [
    "l1"
   ]
  },
  {
   "cell_type": "code",
   "execution_count": null,
   "id": "71dbdb88",
   "metadata": {},
   "outputs": [],
   "source": [
    "l3 = [8,98,34,23,1,0]"
   ]
  },
  {
   "cell_type": "code",
   "execution_count": null,
   "id": "e9df020b",
   "metadata": {},
   "outputs": [],
   "source": [
    "l3.sort(reverse= True )"
   ]
  },
  {
   "cell_type": "code",
   "execution_count": null,
   "id": "cb59106d",
   "metadata": {},
   "outputs": [],
   "source": [
    "l3"
   ]
  },
  {
   "cell_type": "code",
   "execution_count": null,
   "id": "b74d99fc",
   "metadata": {},
   "outputs": [],
   "source": [
    "l1 = [2,3,4]\n",
    "l2 = [6,7,8]\n",
    "l3 = [3,2,4]"
   ]
  },
  {
   "cell_type": "code",
   "execution_count": null,
   "id": "ccb0aeda",
   "metadata": {},
   "outputs": [],
   "source": [
    "l4 = [l1,l2,l3]"
   ]
  },
  {
   "cell_type": "code",
   "execution_count": null,
   "id": "f7c18d8b",
   "metadata": {},
   "outputs": [],
   "source": [
    "l4"
   ]
  },
  {
   "cell_type": "code",
   "execution_count": null,
   "id": "e3091857",
   "metadata": {},
   "outputs": [],
   "source": [
    "l4"
   ]
  },
  {
   "cell_type": "code",
   "execution_count": null,
   "id": "1c71465f",
   "metadata": {},
   "outputs": [],
   "source": [
    "l4[2][1]"
   ]
  },
  {
   "cell_type": "code",
   "execution_count": null,
   "id": "68c6c66b",
   "metadata": {},
   "outputs": [],
   "source": [
    "l4[2][1]"
   ]
  },
  {
   "cell_type": "code",
   "execution_count": null,
   "id": "33febc15",
   "metadata": {},
   "outputs": [],
   "source": [
    "l"
   ]
  },
  {
   "cell_type": "code",
   "execution_count": null,
   "id": "dfefc348",
   "metadata": {},
   "outputs": [],
   "source": [
    "l.count(2)"
   ]
  },
  {
   "cell_type": "code",
   "execution_count": null,
   "id": "bbf42cca",
   "metadata": {},
   "outputs": [],
   "source": [
    "l5 = [3,4,5,3,3,3]"
   ]
  },
  {
   "cell_type": "code",
   "execution_count": null,
   "id": "94653c8e",
   "metadata": {},
   "outputs": [],
   "source": [
    "l5.count(3)"
   ]
  },
  {
   "cell_type": "code",
   "execution_count": null,
   "id": "15a1b5b8",
   "metadata": {},
   "outputs": [],
   "source": [
    "l1=[1,2,3]\n",
    "l2=[4,5,6]\n",
    "l3=[7,8,9]\n",
    "\n",
    "l4=[l1,l2,l3]\n",
    "\n",
    "l4.count(3)\n",
    "\n"
   ]
  },
  {
   "cell_type": "code",
   "execution_count": null,
   "id": "0a2a3d99",
   "metadata": {},
   "outputs": [],
   "source": [
    "l4"
   ]
  },
  {
   "cell_type": "code",
   "execution_count": null,
   "id": "9344afad",
   "metadata": {},
   "outputs": [],
   "source": [
    "l4.count(3)"
   ]
  },
  {
   "cell_type": "code",
   "execution_count": null,
   "id": "a67e216c",
   "metadata": {},
   "outputs": [],
   "source": [
    "l"
   ]
  },
  {
   "cell_type": "code",
   "execution_count": null,
   "id": "68861420",
   "metadata": {},
   "outputs": [],
   "source": [
    "l.append(\"namdev\")"
   ]
  },
  {
   "cell_type": "code",
   "execution_count": null,
   "id": "927a4828",
   "metadata": {},
   "outputs": [],
   "source": [
    "l"
   ]
  },
  {
   "cell_type": "code",
   "execution_count": null,
   "id": "de2bbdc9",
   "metadata": {},
   "outputs": [],
   "source": [
    "l.append([4,56 , \"namdev\"])"
   ]
  },
  {
   "cell_type": "code",
   "execution_count": 77,
   "id": "fb235d9c",
   "metadata": {},
   "outputs": [
    {
     "data": {
      "text/plain": [
       "['namdev', True, 45.67, 'namdev', 5, 4, 3, 2, [1, 2, 3, 4]]"
      ]
     },
     "execution_count": 77,
     "metadata": {},
     "output_type": "execute_result"
    }
   ],
   "source": [
    "l"
   ]
  },
  {
   "cell_type": "code",
   "execution_count": 78,
   "id": "9f139029",
   "metadata": {},
   "outputs": [],
   "source": [
    "l.extend(\"namdev\")"
   ]
  },
  {
   "cell_type": "code",
   "execution_count": 79,
   "id": "40c36ad0",
   "metadata": {},
   "outputs": [
    {
     "data": {
      "text/plain": [
       "['namdev',\n",
       " True,\n",
       " 45.67,\n",
       " 'namdev',\n",
       " 5,\n",
       " 4,\n",
       " 3,\n",
       " 2,\n",
       " [1, 2, 3, 4],\n",
       " 'n',\n",
       " 'a',\n",
       " 'm',\n",
       " 'd',\n",
       " 'e',\n",
       " 'v']"
      ]
     },
     "execution_count": 79,
     "metadata": {},
     "output_type": "execute_result"
    }
   ],
   "source": [
    "l"
   ]
  },
  {
   "cell_type": "code",
   "execution_count": 80,
   "id": "39565fb8",
   "metadata": {},
   "outputs": [],
   "source": [
    "l6 = [1,2,3]"
   ]
  },
  {
   "cell_type": "code",
   "execution_count": 81,
   "id": "ca802d08",
   "metadata": {},
   "outputs": [],
   "source": [
    "l6.append([4,5,6])"
   ]
  },
  {
   "cell_type": "code",
   "execution_count": 82,
   "id": "b12a528a",
   "metadata": {},
   "outputs": [
    {
     "data": {
      "text/plain": [
       "[1, 2, 3, [4, 5, 6]]"
      ]
     },
     "execution_count": 82,
     "metadata": {},
     "output_type": "execute_result"
    }
   ],
   "source": [
    "l6"
   ]
  },
  {
   "cell_type": "code",
   "execution_count": 83,
   "id": "7388acce",
   "metadata": {},
   "outputs": [],
   "source": [
    "l6.append(\"namdev\")"
   ]
  },
  {
   "cell_type": "code",
   "execution_count": 85,
   "id": "fd0824a0",
   "metadata": {},
   "outputs": [
    {
     "data": {
      "text/plain": [
       "[1, 2, 3, [4, 5, 6], 'namdev']"
      ]
     },
     "execution_count": 85,
     "metadata": {},
     "output_type": "execute_result"
    }
   ],
   "source": [
    "l6"
   ]
  },
  {
   "cell_type": "code",
   "execution_count": 86,
   "id": "603aba04",
   "metadata": {},
   "outputs": [],
   "source": [
    "l6.append(45)"
   ]
  },
  {
   "cell_type": "code",
   "execution_count": 90,
   "id": "dc698e27",
   "metadata": {},
   "outputs": [
    {
     "data": {
      "text/plain": [
       "[1, 2, 3, [4, 5, 6], 'namdev', 45]"
      ]
     },
     "execution_count": 90,
     "metadata": {},
     "output_type": "execute_result"
    }
   ],
   "source": [
    "l6"
   ]
  },
  {
   "cell_type": "code",
   "execution_count": 93,
   "id": "a662edf7",
   "metadata": {},
   "outputs": [],
   "source": [
    "l6.extend([56,34,21])"
   ]
  },
  {
   "cell_type": "code",
   "execution_count": 124,
   "id": "01527db6",
   "metadata": {},
   "outputs": [
    {
     "data": {
      "text/plain": [
       "[1, 2, 3, [4, 5, 6], 'namdev', 45, 56, 34, 21]"
      ]
     },
     "execution_count": 124,
     "metadata": {},
     "output_type": "execute_result"
    }
   ],
   "source": [
    "l6"
   ]
  },
  {
   "cell_type": "code",
   "execution_count": 126,
   "id": "f206218d",
   "metadata": {},
   "outputs": [],
   "source": [
    "l6.extend(\"patange\")"
   ]
  },
  {
   "cell_type": "code",
   "execution_count": 128,
   "id": "1173ec16",
   "metadata": {},
   "outputs": [
    {
     "data": {
      "text/plain": [
       "[1,\n",
       " 2,\n",
       " 3,\n",
       " [4, 5, 6],\n",
       " 'namdev',\n",
       " 45,\n",
       " 56,\n",
       " 34,\n",
       " 21,\n",
       " 'p',\n",
       " 'a',\n",
       " 't',\n",
       " 'a',\n",
       " 'n',\n",
       " 'g',\n",
       " 'e']"
      ]
     },
     "execution_count": 128,
     "metadata": {},
     "output_type": "execute_result"
    }
   ],
   "source": [
    "l6"
   ]
  },
  {
   "cell_type": "code",
   "execution_count": 129,
   "id": "4d38b1bd",
   "metadata": {},
   "outputs": [
    {
     "data": {
      "text/plain": [
       "[1,\n",
       " 2,\n",
       " 3,\n",
       " [4, 5, 6],\n",
       " 'namdev',\n",
       " 45,\n",
       " 56,\n",
       " 34,\n",
       " 21,\n",
       " 'p',\n",
       " 'a',\n",
       " 't',\n",
       " 'a',\n",
       " 'n',\n",
       " 'g',\n",
       " 'e']"
      ]
     },
     "execution_count": 129,
     "metadata": {},
     "output_type": "execute_result"
    }
   ],
   "source": [
    "l6"
   ]
  },
  {
   "cell_type": "code",
   "execution_count": 130,
   "id": "84a62688",
   "metadata": {},
   "outputs": [
    {
     "data": {
      "text/plain": [
       "0"
      ]
     },
     "execution_count": 130,
     "metadata": {},
     "output_type": "execute_result"
    }
   ],
   "source": [
    "l6.index(1)"
   ]
  },
  {
   "cell_type": "code",
   "execution_count": 133,
   "id": "bcd7b6bc",
   "metadata": {},
   "outputs": [],
   "source": [
    "l7  = [1,2,3,4,55,6,6,7]"
   ]
  },
  {
   "cell_type": "code",
   "execution_count": 134,
   "id": "543912bd",
   "metadata": {},
   "outputs": [
    {
     "data": {
      "text/plain": [
       "5"
      ]
     },
     "execution_count": 134,
     "metadata": {},
     "output_type": "execute_result"
    }
   ],
   "source": [
    "l7.index(6)"
   ]
  },
  {
   "cell_type": "code",
   "execution_count": 136,
   "id": "a0bd97b7",
   "metadata": {},
   "outputs": [],
   "source": [
    "l = [1,2,3,4,5]"
   ]
  },
  {
   "cell_type": "code",
   "execution_count": 137,
   "id": "b41b0450",
   "metadata": {},
   "outputs": [],
   "source": [
    "l.append(45)"
   ]
  },
  {
   "cell_type": "code",
   "execution_count": 139,
   "id": "f806136d",
   "metadata": {},
   "outputs": [
    {
     "data": {
      "text/plain": [
       "[1, 2, 3, 4, 5, 45]"
      ]
     },
     "execution_count": 139,
     "metadata": {},
     "output_type": "execute_result"
    }
   ],
   "source": [
    "l"
   ]
  },
  {
   "cell_type": "code",
   "execution_count": 141,
   "id": "8b4bdb4f",
   "metadata": {},
   "outputs": [],
   "source": [
    "l.insert(1 , [1,2,34])"
   ]
  },
  {
   "cell_type": "code",
   "execution_count": 142,
   "id": "08ef3881",
   "metadata": {},
   "outputs": [
    {
     "data": {
      "text/plain": [
       "[1, [1, 2, 34], 2, 3, 4, 5, 45]"
      ]
     },
     "execution_count": 142,
     "metadata": {},
     "output_type": "execute_result"
    }
   ],
   "source": [
    "l"
   ]
  },
  {
   "cell_type": "code",
   "execution_count": 145,
   "id": "c9c73ea0",
   "metadata": {},
   "outputs": [],
   "source": [
    "l.insert(5,\"namdev\")"
   ]
  },
  {
   "cell_type": "code",
   "execution_count": 147,
   "id": "4d5fcc67",
   "metadata": {},
   "outputs": [
    {
     "data": {
      "text/plain": [
       "[1, [1, 2, 34], 2, 3, 4, 'namdev', 5, 45]"
      ]
     },
     "execution_count": 147,
     "metadata": {},
     "output_type": "execute_result"
    }
   ],
   "source": [
    "l"
   ]
  },
  {
   "cell_type": "code",
   "execution_count": 148,
   "id": "64f41b39",
   "metadata": {},
   "outputs": [
    {
     "data": {
      "text/plain": [
       "[1, [1, 2, 34], 2, 3, 4, 'namdev', 5, 45]"
      ]
     },
     "execution_count": 148,
     "metadata": {},
     "output_type": "execute_result"
    }
   ],
   "source": [
    "l"
   ]
  },
  {
   "cell_type": "code",
   "execution_count": 150,
   "id": "a46aa65d",
   "metadata": {},
   "outputs": [
    {
     "data": {
      "text/plain": [
       "45"
      ]
     },
     "execution_count": 150,
     "metadata": {},
     "output_type": "execute_result"
    }
   ],
   "source": [
    "l.pop()"
   ]
  },
  {
   "cell_type": "code",
   "execution_count": 152,
   "id": "f7e51b16",
   "metadata": {},
   "outputs": [
    {
     "data": {
      "text/plain": [
       "[1, [1, 2, 34], 2, 3, 4, 'namdev', 5]"
      ]
     },
     "execution_count": 152,
     "metadata": {},
     "output_type": "execute_result"
    }
   ],
   "source": [
    "l"
   ]
  },
  {
   "cell_type": "code",
   "execution_count": 153,
   "id": "908f4119",
   "metadata": {},
   "outputs": [
    {
     "data": {
      "text/plain": [
       "2"
      ]
     },
     "execution_count": 153,
     "metadata": {},
     "output_type": "execute_result"
    }
   ],
   "source": [
    "l.pop(2)"
   ]
  },
  {
   "cell_type": "code",
   "execution_count": 155,
   "id": "31839570",
   "metadata": {},
   "outputs": [
    {
     "data": {
      "text/plain": [
       "[1, [1, 2, 34], 3, 4, 'namdev', 5]"
      ]
     },
     "execution_count": 155,
     "metadata": {},
     "output_type": "execute_result"
    }
   ],
   "source": [
    "l"
   ]
  },
  {
   "cell_type": "code",
   "execution_count": 159,
   "id": "8c4c0b2e",
   "metadata": {},
   "outputs": [],
   "source": [
    "l.remove(4)"
   ]
  },
  {
   "cell_type": "code",
   "execution_count": 160,
   "id": "89b079a3",
   "metadata": {},
   "outputs": [
    {
     "data": {
      "text/plain": [
       "[1, [1, 2, 34], 3, 'namdev', 5]"
      ]
     },
     "execution_count": 160,
     "metadata": {},
     "output_type": "execute_result"
    }
   ],
   "source": [
    "l"
   ]
  },
  {
   "cell_type": "code",
   "execution_count": 161,
   "id": "4b3fa07c",
   "metadata": {},
   "outputs": [],
   "source": [
    "l.remove(3)"
   ]
  },
  {
   "cell_type": "code",
   "execution_count": 163,
   "id": "bd896442",
   "metadata": {},
   "outputs": [
    {
     "data": {
      "text/plain": [
       "[1, [1, 2, 34], 'namdev', 5]"
      ]
     },
     "execution_count": 163,
     "metadata": {},
     "output_type": "execute_result"
    }
   ],
   "source": [
    "l"
   ]
  },
  {
   "cell_type": "code",
   "execution_count": 165,
   "id": "a9d2dbf0",
   "metadata": {},
   "outputs": [],
   "source": [
    "l = [1,2,3,4]"
   ]
  },
  {
   "cell_type": "code",
   "execution_count": 166,
   "id": "68f3ed3d",
   "metadata": {},
   "outputs": [],
   "source": [
    "l[2] =\"namdev\""
   ]
  },
  {
   "cell_type": "code",
   "execution_count": 168,
   "id": "8ae1745a",
   "metadata": {},
   "outputs": [
    {
     "data": {
      "text/plain": [
       "[1, 2, 'namdev', 4]"
      ]
     },
     "execution_count": 168,
     "metadata": {},
     "output_type": "execute_result"
    }
   ],
   "source": [
    "l"
   ]
  },
  {
   "cell_type": "code",
   "execution_count": 169,
   "id": "ea4b1401",
   "metadata": {},
   "outputs": [],
   "source": [
    "s = \"iNeuron\""
   ]
  },
  {
   "cell_type": "code",
   "execution_count": 172,
   "id": "8e53c33c",
   "metadata": {},
   "outputs": [],
   "source": [
    "t = (4,5,6,7,\"namdev\" ,45.67, True)"
   ]
  },
  {
   "cell_type": "code",
   "execution_count": 173,
   "id": "d5a64769",
   "metadata": {},
   "outputs": [
    {
     "data": {
      "text/plain": [
       "tuple"
      ]
     },
     "execution_count": 173,
     "metadata": {},
     "output_type": "execute_result"
    }
   ],
   "source": [
    "type(t)"
   ]
  },
  {
   "cell_type": "code",
   "execution_count": 174,
   "id": "31b1c5f6",
   "metadata": {},
   "outputs": [
    {
     "data": {
      "text/plain": [
       "4"
      ]
     },
     "execution_count": 174,
     "metadata": {},
     "output_type": "execute_result"
    }
   ],
   "source": [
    "t[0]"
   ]
  },
  {
   "cell_type": "code",
   "execution_count": 176,
   "id": "1dbc0672",
   "metadata": {},
   "outputs": [
    {
     "data": {
      "text/plain": [
       "(4, 5, 6, 7)"
      ]
     },
     "execution_count": 176,
     "metadata": {},
     "output_type": "execute_result"
    }
   ],
   "source": [
    "t[0:4]"
   ]
  },
  {
   "cell_type": "code",
   "execution_count": 177,
   "id": "d4dc0937",
   "metadata": {},
   "outputs": [
    {
     "data": {
      "text/plain": [
       "True"
      ]
     },
     "execution_count": 177,
     "metadata": {},
     "output_type": "execute_result"
    }
   ],
   "source": [
    "t[-1]"
   ]
  },
  {
   "cell_type": "code",
   "execution_count": 180,
   "id": "56772e1f",
   "metadata": {},
   "outputs": [
    {
     "data": {
      "text/plain": [
       "(4, 5, 6, 7, 'namdev', 45.67, True)"
      ]
     },
     "execution_count": 180,
     "metadata": {},
     "output_type": "execute_result"
    }
   ],
   "source": [
    "t"
   ]
  },
  {
   "cell_type": "code",
   "execution_count": 181,
   "id": "a00177b9",
   "metadata": {},
   "outputs": [
    {
     "data": {
      "text/plain": [
       "(4, 6, 'namdev')"
      ]
     },
     "execution_count": 181,
     "metadata": {},
     "output_type": "execute_result"
    }
   ],
   "source": [
    "t[0:6:2]"
   ]
  },
  {
   "cell_type": "code",
   "execution_count": 183,
   "id": "f2ce9d69",
   "metadata": {},
   "outputs": [
    {
     "data": {
      "text/plain": [
       "()"
      ]
     },
     "execution_count": 183,
     "metadata": {},
     "output_type": "execute_result"
    }
   ],
   "source": [
    "t[0:4:-1]"
   ]
  },
  {
   "cell_type": "code",
   "execution_count": 184,
   "id": "bae4cfcd",
   "metadata": {},
   "outputs": [],
   "source": [
    "l = [1,2,3,456,78]"
   ]
  },
  {
   "cell_type": "code",
   "execution_count": 186,
   "id": "2e918dea",
   "metadata": {},
   "outputs": [],
   "source": [
    "l[2] = \"namdev\""
   ]
  },
  {
   "cell_type": "code",
   "execution_count": 187,
   "id": "e3eab494",
   "metadata": {},
   "outputs": [
    {
     "data": {
      "text/plain": [
       "[1, 2, 'namdev', 456, 78]"
      ]
     },
     "execution_count": 187,
     "metadata": {},
     "output_type": "execute_result"
    }
   ],
   "source": [
    "l"
   ]
  },
  {
   "cell_type": "code",
   "execution_count": 189,
   "id": "1167cccd",
   "metadata": {},
   "outputs": [
    {
     "data": {
      "text/plain": [
       "(4, 5, 6, 7, 'namdev', 45.67, True)"
      ]
     },
     "execution_count": 189,
     "metadata": {},
     "output_type": "execute_result"
    }
   ],
   "source": [
    "t"
   ]
  },
  {
   "cell_type": "code",
   "execution_count": 194,
   "id": "435af40a",
   "metadata": {},
   "outputs": [
    {
     "data": {
      "text/plain": [
       "(4, 5, 6, 7, 'namdev', 45.67, True)"
      ]
     },
     "execution_count": 194,
     "metadata": {},
     "output_type": "execute_result"
    }
   ],
   "source": [
    "t"
   ]
  },
  {
   "cell_type": "code",
   "execution_count": 195,
   "id": "297d63ce",
   "metadata": {},
   "outputs": [
    {
     "data": {
      "text/plain": [
       "(4, 5, 6, 7, 'namdev', 45.67, True, 3, 4, 5, 6)"
      ]
     },
     "execution_count": 195,
     "metadata": {},
     "output_type": "execute_result"
    }
   ],
   "source": [
    "t +t1"
   ]
  },
  {
   "cell_type": "code",
   "execution_count": 197,
   "id": "652e2a70",
   "metadata": {},
   "outputs": [
    {
     "data": {
      "text/plain": [
       "0"
      ]
     },
     "execution_count": 197,
     "metadata": {},
     "output_type": "execute_result"
    }
   ],
   "source": [
    "t.count(3)"
   ]
  },
  {
   "cell_type": "code",
   "execution_count": 198,
   "id": "79f9ddd9",
   "metadata": {},
   "outputs": [
    {
     "data": {
      "text/plain": [
       "1"
      ]
     },
     "execution_count": 198,
     "metadata": {},
     "output_type": "execute_result"
    }
   ],
   "source": [
    "t.count(4)"
   ]
  },
  {
   "cell_type": "code",
   "execution_count": 200,
   "id": "7fa78fcb",
   "metadata": {},
   "outputs": [
    {
     "data": {
      "text/plain": [
       "1"
      ]
     },
     "execution_count": 200,
     "metadata": {},
     "output_type": "execute_result"
    }
   ],
   "source": [
    "t.index(5)"
   ]
  },
  {
   "cell_type": "code",
   "execution_count": 201,
   "id": "1cb27098",
   "metadata": {},
   "outputs": [],
   "source": [
    "t = t+t1"
   ]
  },
  {
   "cell_type": "code",
   "execution_count": 203,
   "id": "97631a5a",
   "metadata": {},
   "outputs": [
    {
     "data": {
      "text/plain": [
       "(4, 5, 6, 7, 'namdev', 45.67, True, 3, 4, 5, 6)"
      ]
     },
     "execution_count": 203,
     "metadata": {},
     "output_type": "execute_result"
    }
   ],
   "source": [
    "t"
   ]
  },
  {
   "cell_type": "code",
   "execution_count": 204,
   "id": "bb941cde",
   "metadata": {},
   "outputs": [],
   "source": [
    "t = (3,4,56,7, \"namdev\")"
   ]
  },
  {
   "cell_type": "code",
   "execution_count": 206,
   "id": "c067bd42",
   "metadata": {},
   "outputs": [],
   "source": [
    "t2 = list(t)"
   ]
  },
  {
   "cell_type": "code",
   "execution_count": 208,
   "id": "aad7caf8",
   "metadata": {},
   "outputs": [
    {
     "data": {
      "text/plain": [
       "[3, 4, 56, 7, 'namdev']"
      ]
     },
     "execution_count": 208,
     "metadata": {},
     "output_type": "execute_result"
    }
   ],
   "source": [
    "t2"
   ]
  },
  {
   "cell_type": "code",
   "execution_count": 209,
   "id": "b6f65bb5",
   "metadata": {},
   "outputs": [
    {
     "data": {
      "text/plain": [
       "(3, 4, 56, 7, 'namdev')"
      ]
     },
     "execution_count": 209,
     "metadata": {},
     "output_type": "execute_result"
    }
   ],
   "source": [
    "tuple(t2)"
   ]
  },
  {
   "cell_type": "code",
   "execution_count": 210,
   "id": "4a8ae1c8",
   "metadata": {},
   "outputs": [
    {
     "data": {
      "text/plain": [
       "\"[3, 4, 56, 7, 'namdev']\""
      ]
     },
     "execution_count": 210,
     "metadata": {},
     "output_type": "execute_result"
    }
   ],
   "source": [
    "str(t2)"
   ]
  },
  {
   "cell_type": "code",
   "execution_count": 212,
   "id": "f94734a8",
   "metadata": {},
   "outputs": [],
   "source": [
    "d = {}"
   ]
  },
  {
   "cell_type": "code",
   "execution_count": 213,
   "id": "ab59b7e6",
   "metadata": {},
   "outputs": [
    {
     "data": {
      "text/plain": [
       "dict"
      ]
     },
     "execution_count": 213,
     "metadata": {},
     "output_type": "execute_result"
    }
   ],
   "source": [
    "type(d)"
   ]
  },
  {
   "cell_type": "code",
   "execution_count": 215,
   "id": "91d49265",
   "metadata": {},
   "outputs": [],
   "source": [
    "d1 = {1}"
   ]
  },
  {
   "cell_type": "code",
   "execution_count": 216,
   "id": "bcdb9c91",
   "metadata": {},
   "outputs": [
    {
     "data": {
      "text/plain": [
       "set"
      ]
     },
     "execution_count": 216,
     "metadata": {},
     "output_type": "execute_result"
    }
   ],
   "source": [
    "type(d1)"
   ]
  },
  {
   "cell_type": "code",
   "execution_count": 219,
   "id": "64f5415c",
   "metadata": {},
   "outputs": [],
   "source": [
    "d2 = { 'key1' : \"value\"  , 234 : \"xyz\" , \"name\" : \"namdev\" , \"no\" : 34324345 }"
   ]
  },
  {
   "cell_type": "code",
   "execution_count": 220,
   "id": "06836918",
   "metadata": {},
   "outputs": [
    {
     "data": {
      "text/plain": [
       "dict"
      ]
     },
     "execution_count": 220,
     "metadata": {},
     "output_type": "execute_result"
    }
   ],
   "source": [
    "type(d2)"
   ]
  },
  {
   "cell_type": "code",
   "execution_count": 221,
   "id": "c5c796b8",
   "metadata": {},
   "outputs": [
    {
     "data": {
      "text/plain": [
       "'namdev'"
      ]
     },
     "execution_count": 221,
     "metadata": {},
     "output_type": "execute_result"
    }
   ],
   "source": [
    "d2['name']"
   ]
  },
  {
   "cell_type": "code",
   "execution_count": 222,
   "id": "5a5e8f3f",
   "metadata": {},
   "outputs": [
    {
     "data": {
      "text/plain": [
       "34324345"
      ]
     },
     "execution_count": 222,
     "metadata": {},
     "output_type": "execute_result"
    }
   ],
   "source": [
    "d2['no']"
   ]
  },
  {
   "cell_type": "code",
   "execution_count": 223,
   "id": "cacf47c4",
   "metadata": {},
   "outputs": [],
   "source": [
    "d3 = {'name': \"namdev\" , 'tech' :[\"python\" , \"ML\" , \"DL\" , \"NLP\",\"CV\" , \"Big data\" , \"data analytics\"]}"
   ]
  },
  {
   "cell_type": "code",
   "execution_count": 225,
   "id": "4f178d36",
   "metadata": {},
   "outputs": [
    {
     "data": {
      "text/plain": [
       "{'name': 'namdev',\n",
       " 'tech': ['python', 'ML', 'DL', 'NLP', 'CV', 'Big data', 'data analytics']}"
      ]
     },
     "execution_count": 225,
     "metadata": {},
     "output_type": "execute_result"
    }
   ],
   "source": [
    "d3"
   ]
  },
  {
   "cell_type": "code",
   "execution_count": 227,
   "id": "568e6fb3",
   "metadata": {},
   "outputs": [
    {
     "data": {
      "text/plain": [
       "True"
      ]
     },
     "execution_count": 227,
     "metadata": {},
     "output_type": "execute_result"
    }
   ],
   "source": [
    "\"python\" in d3['tech']"
   ]
  },
  {
   "cell_type": "code",
   "execution_count": 228,
   "id": "58048098",
   "metadata": {},
   "outputs": [],
   "source": [
    "d4 = {\"name\" :\"iNeuron\" , \"contact_info\" : 345345 , \"name\":\"namdev\"}"
   ]
  },
  {
   "cell_type": "code",
   "execution_count": 231,
   "id": "4798b515",
   "metadata": {},
   "outputs": [
    {
     "data": {
      "text/plain": [
       "{'name': 'namdev', 'contact_info': 345345}"
      ]
     },
     "execution_count": 231,
     "metadata": {},
     "output_type": "execute_result"
    }
   ],
   "source": [
    "d4"
   ]
  },
  {
   "cell_type": "code",
   "execution_count": 232,
   "id": "8de717f3",
   "metadata": {},
   "outputs": [],
   "source": [
    "d4[\"name1\"] = \"xyz\""
   ]
  },
  {
   "cell_type": "code",
   "execution_count": 233,
   "id": "18345078",
   "metadata": {},
   "outputs": [
    {
     "data": {
      "text/plain": [
       "{'name': 'namdev', 'contact_info': 345345, 'name1': 'xyz'}"
      ]
     },
     "execution_count": 233,
     "metadata": {},
     "output_type": "execute_result"
    }
   ],
   "source": [
    "d4"
   ]
  },
  {
   "cell_type": "code",
   "execution_count": 234,
   "id": "78e6782e",
   "metadata": {},
   "outputs": [
    {
     "data": {
      "text/plain": [
       "{'key1': 'value', 234: 'xyz', 'name': 'namdev', 'no': 34324345}"
      ]
     },
     "execution_count": 234,
     "metadata": {},
     "output_type": "execute_result"
    }
   ],
   "source": [
    "d2"
   ]
  },
  {
   "cell_type": "code",
   "execution_count": 236,
   "id": "9d72711b",
   "metadata": {},
   "outputs": [
    {
     "data": {
      "text/plain": [
       "{'name': 'namdev', 'contact_info': 345345, 'name1': 'xyz'}"
      ]
     },
     "execution_count": 236,
     "metadata": {},
     "output_type": "execute_result"
    }
   ],
   "source": [
    "d4"
   ]
  },
  {
   "cell_type": "code",
   "execution_count": 241,
   "id": "31fb366d",
   "metadata": {},
   "outputs": [],
   "source": [
    "d6 = {(1,2,34) : \"fsdfs\"}"
   ]
  },
  {
   "cell_type": "code",
   "execution_count": 243,
   "id": "f271ffa3",
   "metadata": {},
   "outputs": [
    {
     "data": {
      "text/plain": [
       "'fsdfs'"
      ]
     },
     "execution_count": 243,
     "metadata": {},
     "output_type": "execute_result"
    }
   ],
   "source": [
    "d6[(1,2,34)]"
   ]
  },
  {
   "cell_type": "code",
   "execution_count": 247,
   "id": "8c830654",
   "metadata": {},
   "outputs": [
    {
     "data": {
      "text/plain": [
       "{'key1': 'value', 234: 'xyz', 'name': 'namdev', 'no': 34324345}"
      ]
     },
     "execution_count": 247,
     "metadata": {},
     "output_type": "execute_result"
    }
   ],
   "source": [
    "d2"
   ]
  },
  {
   "cell_type": "code",
   "execution_count": 249,
   "id": "8e4d10b2",
   "metadata": {},
   "outputs": [
    {
     "data": {
      "text/plain": [
       "{'key1': 'value', 234: 'xyz', 'name': 'namdev', 'no': 34324345}"
      ]
     },
     "execution_count": 249,
     "metadata": {},
     "output_type": "execute_result"
    }
   ],
   "source": [
    "d2"
   ]
  },
  {
   "cell_type": "code",
   "execution_count": 250,
   "id": "ffe45689",
   "metadata": {},
   "outputs": [
    {
     "data": {
      "text/plain": [
       "{'name': 'namdev',\n",
       " 'tech': ['python', 'ML', 'DL', 'NLP', 'CV', 'Big data', 'data analytics']}"
      ]
     },
     "execution_count": 250,
     "metadata": {},
     "output_type": "execute_result"
    }
   ],
   "source": [
    "d3"
   ]
  },
  {
   "cell_type": "code",
   "execution_count": 254,
   "id": "578323f7",
   "metadata": {},
   "outputs": [
    {
     "data": {
      "text/plain": [
       "{'key1': 'value', 234: 'xyz', 'name': 'namdev', 'no': 34324345}"
      ]
     },
     "execution_count": 254,
     "metadata": {},
     "output_type": "execute_result"
    }
   ],
   "source": [
    "d2"
   ]
  },
  {
   "cell_type": "code",
   "execution_count": 255,
   "id": "106267a3",
   "metadata": {},
   "outputs": [
    {
     "data": {
      "text/plain": [
       "dict_keys(['key1', 234, 'name', 'no'])"
      ]
     },
     "execution_count": 255,
     "metadata": {},
     "output_type": "execute_result"
    }
   ],
   "source": [
    "d2.keys()"
   ]
  },
  {
   "cell_type": "code",
   "execution_count": 256,
   "id": "27a9df33",
   "metadata": {},
   "outputs": [
    {
     "data": {
      "text/plain": [
       "dict_values(['value', 'xyz', 'namdev', 34324345])"
      ]
     },
     "execution_count": 256,
     "metadata": {},
     "output_type": "execute_result"
    }
   ],
   "source": [
    "d2.values()"
   ]
  },
  {
   "cell_type": "code",
   "execution_count": 259,
   "id": "7e55f5cc",
   "metadata": {},
   "outputs": [
    {
     "data": {
      "text/plain": [
       "dict_items([('key1', 'value'), (234, 'xyz'), ('name', 'namdev'), ('no', 34324345)])"
      ]
     },
     "execution_count": 259,
     "metadata": {},
     "output_type": "execute_result"
    }
   ],
   "source": [
    "d2.items()"
   ]
  },
  {
   "cell_type": "code",
   "execution_count": 260,
   "id": "5e99acaf",
   "metadata": {},
   "outputs": [],
   "source": [
    "s = {3,4,5,6,7,8}"
   ]
  },
  {
   "cell_type": "code",
   "execution_count": 261,
   "id": "e4a109b4",
   "metadata": {},
   "outputs": [
    {
     "data": {
      "text/plain": [
       "set"
      ]
     },
     "execution_count": 261,
     "metadata": {},
     "output_type": "execute_result"
    }
   ],
   "source": [
    "type(s)"
   ]
  },
  {
   "cell_type": "code",
   "execution_count": 263,
   "id": "f458842a",
   "metadata": {},
   "outputs": [],
   "source": [
    "s1 = {3,4,4,5,6,6,7,7,8,8,9,9,0,0,0}"
   ]
  },
  {
   "cell_type": "code",
   "execution_count": 264,
   "id": "bade3af3",
   "metadata": {},
   "outputs": [
    {
     "data": {
      "text/plain": [
       "{0, 3, 4, 5, 6, 7, 8, 9}"
      ]
     },
     "execution_count": 264,
     "metadata": {},
     "output_type": "execute_result"
    }
   ],
   "source": [
    "s1"
   ]
  },
  {
   "cell_type": "code",
   "execution_count": 265,
   "id": "6b5d0bcb",
   "metadata": {},
   "outputs": [],
   "source": [
    "s2 = { 3245,4545,6456,5645,675,6234,345}"
   ]
  },
  {
   "cell_type": "code",
   "execution_count": 268,
   "id": "1e28b01a",
   "metadata": {},
   "outputs": [
    {
     "data": {
      "text/plain": [
       "{345, 675, 3245, 4545, 5645, 6234, 6456}"
      ]
     },
     "execution_count": 268,
     "metadata": {},
     "output_type": "execute_result"
    }
   ],
   "source": [
    "s2"
   ]
  },
  {
   "cell_type": "code",
   "execution_count": 269,
   "id": "29073bac",
   "metadata": {},
   "outputs": [],
   "source": [
    "s3 = {\"patange\" , 324,34,12,645,12,5,'b' , '6'}"
   ]
  },
  {
   "cell_type": "code",
   "execution_count": 271,
   "id": "82b7b14f",
   "metadata": {},
   "outputs": [
    {
     "data": {
      "text/plain": [
       "{12, 324, 34, 5, '6', 645, 'b', 'patange'}"
      ]
     },
     "execution_count": 271,
     "metadata": {},
     "output_type": "execute_result"
    }
   ],
   "source": [
    "s3"
   ]
  },
  {
   "cell_type": "code",
   "execution_count": 274,
   "id": "77f5a2db",
   "metadata": {},
   "outputs": [
    {
     "data": {
      "text/plain": [
       "[34, 'b', 324, 5, 645, 12, 'patange', '6']"
      ]
     },
     "execution_count": 274,
     "metadata": {},
     "output_type": "execute_result"
    }
   ],
   "source": [
    "list(s3)"
   ]
  },
  {
   "cell_type": "code",
   "execution_count": 276,
   "id": "763168c1",
   "metadata": {},
   "outputs": [
    {
     "data": {
      "text/plain": [
       "(34, 'b', 324, 5, 645, 12, 'patange', '6')"
      ]
     },
     "execution_count": 276,
     "metadata": {},
     "output_type": "execute_result"
    }
   ],
   "source": [
    "tuple(s3)"
   ]
  },
  {
   "cell_type": "code",
   "execution_count": 277,
   "id": "397aad48",
   "metadata": {},
   "outputs": [],
   "source": [
    " l = [2,3,4,5656,7,6,7,7,7,77,7,7,7,7,7,7,7,7,7,7,7,7,7,7,7,7]"
   ]
  },
  {
   "cell_type": "code",
   "execution_count": 280,
   "id": "765debb1",
   "metadata": {},
   "outputs": [],
   "source": [
    "l = list(set(l))"
   ]
  },
  {
   "cell_type": "code",
   "execution_count": 281,
   "id": "e7fe1064",
   "metadata": {},
   "outputs": [
    {
     "data": {
      "text/plain": [
       "[2, 3, 4, 6, 7, 77, 5656]"
      ]
     },
     "execution_count": 281,
     "metadata": {},
     "output_type": "execute_result"
    }
   ],
   "source": [
    "l"
   ]
  },
  {
   "cell_type": "code",
   "execution_count": 283,
   "id": "d9ed309c",
   "metadata": {},
   "outputs": [
    {
     "data": {
      "text/plain": [
       "{345, 675, 3245, 4545, 5645, 6234, 6456}"
      ]
     },
     "execution_count": 283,
     "metadata": {},
     "output_type": "execute_result"
    }
   ],
   "source": [
    "s2"
   ]
  },
  {
   "cell_type": "code",
   "execution_count": 285,
   "id": "08082aff",
   "metadata": {},
   "outputs": [],
   "source": [
    "s2.add(34)"
   ]
  },
  {
   "cell_type": "code",
   "execution_count": 286,
   "id": "01783c98",
   "metadata": {},
   "outputs": [
    {
     "data": {
      "text/plain": [
       "{34, 345, 675, 3245, 4545, 5645, 6234, 6456}"
      ]
     },
     "execution_count": 286,
     "metadata": {},
     "output_type": "execute_result"
    }
   ],
   "source": [
    "s2"
   ]
  },
  {
   "cell_type": "code",
   "execution_count": 289,
   "id": "5cb18521",
   "metadata": {},
   "outputs": [],
   "source": [
    "s = {(1,2,3,4,5) , 3,4,45,65,6}"
   ]
  },
  {
   "cell_type": "code",
   "execution_count": 290,
   "id": "6f89af80",
   "metadata": {},
   "outputs": [
    {
     "data": {
      "text/plain": [
       "{(1, 2, 3, 4, 5), 3, 4, 45, 6, 65}"
      ]
     },
     "execution_count": 290,
     "metadata": {},
     "output_type": "execute_result"
    }
   ],
   "source": [
    "s"
   ]
  },
  {
   "cell_type": "code",
   "execution_count": 293,
   "id": "a7486de5",
   "metadata": {},
   "outputs": [
    {
     "data": {
      "text/plain": [
       "{(1, 2, 3, 4, 5), 3, 4, 45, 6, 65}"
      ]
     },
     "execution_count": 293,
     "metadata": {},
     "output_type": "execute_result"
    }
   ],
   "source": [
    "s"
   ]
  },
  {
   "cell_type": "code",
   "execution_count": null,
   "id": "1cfdf0d1",
   "metadata": {},
   "outputs": [],
   "source": [
    "s"
   ]
  },
  {
   "cell_type": "code",
   "execution_count": 297,
   "id": "5f422bcf",
   "metadata": {},
   "outputs": [],
   "source": [
    "s.discard(3452646)"
   ]
  },
  {
   "cell_type": "code",
   "execution_count": 298,
   "id": "58d36049",
   "metadata": {},
   "outputs": [
    {
     "data": {
      "text/plain": [
       "65"
      ]
     },
     "execution_count": 298,
     "metadata": {},
     "output_type": "execute_result"
    }
   ],
   "source": [
    "s.pop()"
   ]
  },
  {
   "cell_type": "code",
   "execution_count": 299,
   "id": "97be1482",
   "metadata": {},
   "outputs": [
    {
     "data": {
      "text/plain": [
       "{(1, 2, 3, 4, 5), 3, 4, 45, 6}"
      ]
     },
     "execution_count": 299,
     "metadata": {},
     "output_type": "execute_result"
    }
   ],
   "source": [
    "s"
   ]
  },
  {
   "cell_type": "code",
   "execution_count": 300,
   "id": "b313243a",
   "metadata": {},
   "outputs": [
    {
     "data": {
      "text/plain": [
       "set"
      ]
     },
     "execution_count": 300,
     "metadata": {},
     "output_type": "execute_result"
    }
   ],
   "source": [
    "type(s)"
   ]
  },
  {
   "cell_type": "code",
   "execution_count": 302,
   "id": "58558c61",
   "metadata": {},
   "outputs": [],
   "source": [
    "l = list(s)"
   ]
  },
  {
   "cell_type": "code",
   "execution_count": 304,
   "id": "4ebbf5eb",
   "metadata": {},
   "outputs": [
    {
     "data": {
      "text/plain": [
       "[3, 4, 6, (1, 2, 3, 4, 5), 45]"
      ]
     },
     "execution_count": 304,
     "metadata": {},
     "output_type": "execute_result"
    }
   ],
   "source": [
    "l"
   ]
  },
  {
   "cell_type": "code",
   "execution_count": 305,
   "id": "7d81401f",
   "metadata": {},
   "outputs": [
    {
     "data": {
      "text/plain": [
       "{(1, 2, 3, 4, 5), 3, 4, 45, 6}"
      ]
     },
     "execution_count": 305,
     "metadata": {},
     "output_type": "execute_result"
    }
   ],
   "source": [
    "set(l)"
   ]
  },
  {
   "cell_type": "code",
   "execution_count": null,
   "id": "93463c95",
   "metadata": {},
   "outputs": [],
   "source": []
  },
  {
   "cell_type": "code",
   "execution_count": 307,
   "id": "97f2fe7e",
   "metadata": {},
   "outputs": [
    {
     "data": {
      "text/plain": [
       "set"
      ]
     },
     "execution_count": 307,
     "metadata": {},
     "output_type": "execute_result"
    }
   ],
   "source": [
    "str\n",
    "list \n",
    "tuple\n",
    "dict\n",
    "set"
   ]
  },
  {
   "cell_type": "code",
   "execution_count": 310,
   "id": "a4c3b614",
   "metadata": {},
   "outputs": [
    {
     "data": {
      "text/plain": [
       "{'key1': 'value', 234: 'xyz', 'name': 'namdev', 'no': 34324345}"
      ]
     },
     "execution_count": 310,
     "metadata": {},
     "output_type": "execute_result"
    }
   ],
   "source": [
    "d2"
   ]
  },
  {
   "cell_type": "code",
   "execution_count": 311,
   "id": "64e6705d",
   "metadata": {},
   "outputs": [],
   "source": [
    "d2[\"key4\"] = \"sdfsf\""
   ]
  },
  {
   "cell_type": "code",
   "execution_count": 313,
   "id": "68cd3b00",
   "metadata": {},
   "outputs": [
    {
     "data": {
      "text/plain": [
       "{'key1': 'value',\n",
       " 234: 'xyz',\n",
       " 'name': 'namdev',\n",
       " 'no': 34324345,\n",
       " 'key4': 'sdfsf'}"
      ]
     },
     "execution_count": 313,
     "metadata": {},
     "output_type": "execute_result"
    }
   ],
   "source": [
    "d2"
   ]
  },
  {
   "cell_type": "code",
   "execution_count": 314,
   "id": "560d9678",
   "metadata": {},
   "outputs": [],
   "source": [
    "d2[\"key1\"]  = \"ineuron\""
   ]
  },
  {
   "cell_type": "code",
   "execution_count": 316,
   "id": "9fbd13e1",
   "metadata": {},
   "outputs": [
    {
     "data": {
      "text/plain": [
       "{'key1': 'ineuron',\n",
       " 234: 'xyz',\n",
       " 'name': 'namdev',\n",
       " 'no': 34324345,\n",
       " 'key4': 'sdfsf'}"
      ]
     },
     "execution_count": 316,
     "metadata": {},
     "output_type": "execute_result"
    }
   ],
   "source": [
    "d2"
   ]
  },
  {
   "cell_type": "code",
   "execution_count": 321,
   "id": "9200213c",
   "metadata": {},
   "outputs": [],
   "source": [
    "s = \"suraj\"\n",
    "s1 = \"su\""
   ]
  },
  {
   "cell_type": "code",
   "execution_count": 322,
   "id": "49a6fc4b",
   "metadata": {},
   "outputs": [
    {
     "data": {
      "text/plain": [
       "'surajsu'"
      ]
     },
     "execution_count": 322,
     "metadata": {},
     "output_type": "execute_result"
    }
   ],
   "source": [
    "s+s1"
   ]
  },
  {
   "cell_type": "code",
   "execution_count": 324,
   "id": "16a048a3",
   "metadata": {},
   "outputs": [
    {
     "data": {
      "text/plain": [
       "{'k': None, '1': None}"
      ]
     },
     "execution_count": 324,
     "metadata": {},
     "output_type": "execute_result"
    }
   ],
   "source": [
    "d2.fromkeys(\"k1\")"
   ]
  },
  {
   "cell_type": "code",
   "execution_count": null,
   "id": "6ad8c275",
   "metadata": {},
   "outputs": [],
   "source": [
    "side1 = float(input(\"Enter first side of triangle\"))\n",
    "side2 = float(input(\"Enter second side of triangle\"))\n",
    "side3 = float(input(\"Enter third side of triangle\"))\n",
    "s = (side1+side2+side3)/2\n",
    "ar = (s*(s-side1)*(s-side2)*(s-side3)) ** 0.5\n",
    "print(\"Area of the triangle is, \", ar)"
   ]
  },
  {
   "cell_type": "code",
   "execution_count": null,
   "id": "332f7e8d",
   "metadata": {},
   "outputs": [],
   "source": [
    "l = [1,2,3,4,5]"
   ]
  },
  {
   "cell_type": "code",
   "execution_count": null,
   "id": "d5c73400",
   "metadata": {},
   "outputs": [],
   "source": [
    "l"
   ]
  },
  {
   "cell_type": "code",
   "execution_count": null,
   "id": "507c5394",
   "metadata": {},
   "outputs": [],
   "source": [
    "for i in l:\n",
    "    if type(i)==list:\n",
    "        print(i)\n",
    "    else:\n",
    "        if type(i)==dict:\n",
    "            if type(i.values()==list):\n",
    "                for j in i.values():\n",
    "                    if type(j)==list:\n",
    "                        print(list(j))"
   ]
  },
  {
   "cell_type": "code",
   "execution_count": null,
   "id": "a92567e4",
   "metadata": {},
   "outputs": [],
   "source": [
    "d6 = {_ : \"fdsdf\"}"
   ]
  },
  {
   "cell_type": "code",
   "execution_count": null,
   "id": "dd0fe47b",
   "metadata": {},
   "outputs": [],
   "source": [
    "d6"
   ]
  },
  {
   "cell_type": "code",
   "execution_count": null,
   "id": "5f315ca0",
   "metadata": {},
   "outputs": [],
   "source": [
    "t = ( 4,5,6)"
   ]
  },
  {
   "cell_type": "code",
   "execution_count": null,
   "id": "209d4327",
   "metadata": {},
   "outputs": [],
   "source": [
    "t1 =( 6 )"
   ]
  },
  {
   "cell_type": "code",
   "execution_count": null,
   "id": "8269c970",
   "metadata": {},
   "outputs": [],
   "source": [
    "type(t1)"
   ]
  },
  {
   "cell_type": "code",
   "execution_count": null,
   "id": "5e8fca84",
   "metadata": {},
   "outputs": [],
   "source": [
    "#Question\n",
    "D_NEW = {'name':'namdev','title':'Data Analyst','course':'FSDS'}\n",
    "D_NEW['key1'] = D_NEW\n",
    "print(D_NEW['name'])\n",
    "print(D_NEW['key1'])"
   ]
  },
  {
   "cell_type": "code",
   "execution_count": null,
   "id": "3d3e8a32",
   "metadata": {},
   "outputs": [],
   "source": [
    "print(D_NEW['name'])\n",
    "print(D_NEW['key1'])"
   ]
  },
  {
   "cell_type": "code",
   "execution_count": null,
   "id": "c9908776",
   "metadata": {},
   "outputs": [],
   "source": [
    "D_NEW"
   ]
  },
  {
   "cell_type": "code",
   "execution_count": null,
   "id": "efe61ca0",
   "metadata": {},
   "outputs": [],
   "source": [
    "s = {3,4,5,6,7,7}"
   ]
  },
  {
   "cell_type": "code",
   "execution_count": null,
   "id": "80bedec8",
   "metadata": {},
   "outputs": [],
   "source": [
    "s"
   ]
  },
  {
   "cell_type": "code",
   "execution_count": null,
   "id": "a1e96e0d",
   "metadata": {},
   "outputs": [],
   "source": [
    "list(s)[0]"
   ]
  },
  {
   "cell_type": "code",
   "execution_count": null,
   "id": "43d5ede3",
   "metadata": {},
   "outputs": [],
   "source": [
    "round(34.5656567 , 2)"
   ]
  },
  {
   "cell_type": "code",
   "execution_count": null,
   "id": "a64cb675",
   "metadata": {},
   "outputs": [],
   "source": [
    "d2 = { \"k1\" :\"fsdfs\" , \"k2 \" : [4,5,56]}"
   ]
  },
  {
   "cell_type": "code",
   "execution_count": null,
   "id": "98a20a59",
   "metadata": {},
   "outputs": [],
   "source": [
    "l = d2.keys()"
   ]
  },
  {
   "cell_type": "code",
   "execution_count": null,
   "id": "185a92a9",
   "metadata": {},
   "outputs": [],
   "source": [
    "list(l)[0]"
   ]
  },
  {
   "cell_type": "code",
   "execution_count": null,
   "id": "7d41c824",
   "metadata": {},
   "outputs": [],
   "source": [
    "n=[4, 5, 7, 9, 2, 3, 4, 5, 2, 1, 9, 6, 7, 0]\n",
    "n.pop()\n",
    "n.sort()"
   ]
  },
  {
   "cell_type": "code",
   "execution_count": null,
   "id": "93683d30",
   "metadata": {},
   "outputs": [],
   "source": [
    "s = { 1,2,None, 3,4}"
   ]
  },
  {
   "cell_type": "code",
   "execution_count": null,
   "id": "a2142043",
   "metadata": {},
   "outputs": [],
   "source": [
    "l = [3,4,5,6,7, [23,456,67,8,78,78], [345,56,87,8,98,9],(234,6657,6),{'key1':'namdev', 234:[]}]\n",
    "1\n",
    "l = [1,2,3,4,5,6,7,[11,22,33,44,55,66],111,222,333,'namdev']\n",
    "l\n",
    "1\n",
    "l\n",
    "[1, 2, 3, 4, 5, 6, 7, [11, 22, 33, 44, 55, 66], 111, 222, 333, 'namdev']\n",
    "3\n",
    "1\n",
    "l.remove(3)\n",
    "l\n",
    "1\n",
    "l\n",
    "[1, 2, 4, 5, 6, 7, [11, 22, 33, 44, 55, 66], 111, 222, 333, 'namdev']\n",
    "2\n",
    "1\n",
    "l.remove(2)\n",
    "l\n",
    "1\n",
    "l\n",
    "[1, 4, 5, 6, 7, [11, 22, 33, 44, 55, 66], 111, 222, 333, 'namdev']\n"
   ]
  },
  {
   "cell_type": "code",
   "execution_count": null,
   "id": "148512dd",
   "metadata": {},
   "outputs": [],
   "source": [
    "l = [10,2,3,4,5,6,7,[11,22,33,44,55,66],111,222,333,'namdev']"
   ]
  },
  {
   "cell_type": "code",
   "execution_count": null,
   "id": "9f725819",
   "metadata": {},
   "outputs": [],
   "source": [
    "l.remove(10)"
   ]
  },
  {
   "cell_type": "code",
   "execution_count": null,
   "id": "e6a84ae0-00fc-419c-a750-1259fe21d703",
   "metadata": {},
   "outputs": [],
   "source": []
  }
 ],
 "metadata": {
  "kernelspec": {
   "display_name": "Python 3 (ipykernel)",
   "language": "python",
   "name": "python3"
  },
  "language_info": {
   "codemirror_mode": {
    "name": "ipython",
    "version": 3
   },
   "file_extension": ".py",
   "mimetype": "text/x-python",
   "name": "python",
   "nbconvert_exporter": "python",
   "pygments_lexer": "ipython3",
   "version": "3.11.5"
  }
 },
 "nbformat": 4,
 "nbformat_minor": 5
}
